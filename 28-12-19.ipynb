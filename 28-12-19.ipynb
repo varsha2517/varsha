{
 "cells": [
  {
   "cell_type": "code",
   "execution_count": 6,
   "metadata": {},
   "outputs": [
    {
     "name": "stdout",
     "output_type": "stream",
     "text": [
      "['p', 'n', 't', 'v']\n"
     ]
    }
   ],
   "source": [
    "def alternative(str):\n",
    "    li=list(str[0:len(str):2])\n",
    "    print(li)\n",
    "    \n",
    "alternative(\"pynative\")\n",
    "    \n"
   ]
  },
  {
   "cell_type": "code",
   "execution_count": 13,
   "metadata": {},
   "outputs": [
    {
     "name": "stdout",
     "output_type": "stream",
     "text": [
      "True\n"
     ]
    }
   ],
   "source": [
    "def firstandlast(li):\n",
    "    if li[0]==li[-1]:\n",
    "        return True\n",
    "    else:\n",
    "        return False\n",
    "    \n",
    "    \n",
    "print(firstandlast([1,2,4,3,5,4,6,1]))"
   ]
  },
  {
   "cell_type": "code",
   "execution_count": 20,
   "metadata": {},
   "outputs": [
    {
     "name": "stdout",
     "output_type": "stream",
     "text": [
      "1 \n",
      "\n",
      "2 2 \n",
      "\n",
      "3 3 3 \n",
      "\n",
      "4 4 4 4 \n",
      "\n",
      "5 5 5 5 5 \n",
      "\n"
     ]
    }
   ],
   "source": [
    "def pattern(n):\n",
    "    for i in range(1,n+1):\n",
    "        \n",
    "        for j in range(i):\n",
    "            print(i,end=\" \")\n",
    "        print(\"\\n\")\n",
    "pattern(5)\n"
   ]
  },
  {
   "cell_type": "code",
   "execution_count": 23,
   "metadata": {},
   "outputs": [
    {
     "name": "stdout",
     "output_type": "stream",
     "text": [
      "enter the namevarsha\n",
      "enter the age19\n",
      "2100\n",
      "varsha will be 100 years old in the year 2100\n"
     ]
    }
   ],
   "source": [
    "name=input(\"enter the name\")\n",
    "age=int(input(\"enter the age\"))\n",
    "temp=100-age\n",
    "t1=2019+temp\n",
    "print(t1)\n",
    "print(name,\"will be 100 years old in the year\",t1)"
   ]
  },
  {
   "cell_type": "code",
   "execution_count": null,
   "metadata": {},
   "outputs": [],
   "source": []
  }
 ],
 "metadata": {
  "kernelspec": {
   "display_name": "Python 3",
   "language": "python",
   "name": "python3"
  },
  "language_info": {
   "codemirror_mode": {
    "name": "ipython",
    "version": 3
   },
   "file_extension": ".py",
   "mimetype": "text/x-python",
   "name": "python",
   "nbconvert_exporter": "python",
   "pygments_lexer": "ipython3",
   "version": "3.7.0"
  }
 },
 "nbformat": 4,
 "nbformat_minor": 2
}
